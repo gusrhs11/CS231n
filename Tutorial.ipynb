{
  "nbformat": 4,
  "nbformat_minor": 0,
  "metadata": {
    "colab": {
      "name": "Tutorial.ipynb",
      "provenance": [],
      "collapsed_sections": [],
      "authorship_tag": "ABX9TyNdUIKDru332S/c192VYbx8",
      "include_colab_link": true
    },
    "kernelspec": {
      "name": "python3",
      "display_name": "Python 3"
    },
    "language_info": {
      "name": "python"
    }
  },
  "cells": [
    {
      "cell_type": "markdown",
      "metadata": {
        "id": "view-in-github",
        "colab_type": "text"
      },
      "source": [
        "<a href=\"https://colab.research.google.com/github/gusrhs11/CS231n/blob/main/Tutorial.ipynb\" target=\"_parent\"><img src=\"https://colab.research.google.com/assets/colab-badge.svg\" alt=\"Open In Colab\"/></a>"
      ]
    },
    {
      "cell_type": "markdown",
      "metadata": {
        "id": "XWS9SvO7Vcg8"
      },
      "source": [
        "# CS231n Python Tutorial\n",
        "\n",
        "Basic Python: Basic data types (Containers, Lists, Dictionaries, Sets, Tuples), Functions, Classes\n",
        "\n",
        "Numpy: Arrays, Array indexing, Datatypes, Array math, Broadcasting\n",
        "\n",
        "Matplotlib: Plotting, Subplots, Images\n",
        "\n",
        "IPython: Creating notebooks, Typical workflows"
      ]
    },
    {
      "cell_type": "code",
      "metadata": {
        "colab": {
          "base_uri": "https://localhost:8080/"
        },
        "id": "psA5NzpLVsLO",
        "outputId": "8d459467-140e-4a0b-b590-6b67eb7b3a2d"
      },
      "source": [
        "def quicksort(arr):\n",
        "  if len(arr) <= 1:\n",
        "    return arr\n",
        "  pivot = arr[len(arr)//2]\n",
        "  left = [x for x in arr if x < pivot]\n",
        "  middle = [x for x in arr if x == pivot]\n",
        "  right = [x for x in arr if x > pivot]\n",
        "\n",
        "  return quicksort(left) + middle + quicksort(right)\n",
        "\n",
        "print(quicksort([4, 6, 4, 5, 1, 9, 3, 8]))\n"
      ],
      "execution_count": 71,
      "outputs": [
        {
          "output_type": "stream",
          "text": [
            "[1, 3, 4, 4, 5, 6, 8, 9]\n"
          ],
          "name": "stdout"
        }
      ]
    },
    {
      "cell_type": "markdown",
      "metadata": {
        "id": "H7qARVYdfbQH"
      },
      "source": [
        "Basic data types\n",
        "\n",
        "\n"
      ]
    },
    {
      "cell_type": "code",
      "metadata": {
        "colab": {
          "base_uri": "https://localhost:8080/"
        },
        "id": "jh-gVidUfg6P",
        "outputId": "9958c840-1aca-42a2-e385-5a93c3e1c9af"
      },
      "source": [
        "#numbers\n",
        "x = 3\n",
        "print(x, type(x))"
      ],
      "execution_count": 4,
      "outputs": [
        {
          "output_type": "stream",
          "text": [
            "3 <class 'int'>\n"
          ],
          "name": "stdout"
        }
      ]
    },
    {
      "cell_type": "code",
      "metadata": {
        "colab": {
          "base_uri": "https://localhost:8080/"
        },
        "id": "XcMeWzKGfpMg",
        "outputId": "8e44f087-5b71-47c3-ce31-cc09d0fd8474"
      },
      "source": [
        "#booleans\n",
        "t,f = True , False\n",
        "print(type(t))"
      ],
      "execution_count": 5,
      "outputs": [
        {
          "output_type": "stream",
          "text": [
            "<class 'bool'>\n"
          ],
          "name": "stdout"
        }
      ]
    },
    {
      "cell_type": "code",
      "metadata": {
        "colab": {
          "base_uri": "https://localhost:8080/"
        },
        "id": "5AuQzOgofwGg",
        "outputId": "cfea4dc6-2e82-46b5-b7e5-6c95d683979e"
      },
      "source": [
        "#Strings\n",
        "hello = 'hello'\n",
        "world = 'wd'\n",
        "hw = hello + ' ' + world\n",
        "print(hw)"
      ],
      "execution_count": 6,
      "outputs": [
        {
          "output_type": "stream",
          "text": [
            "hello wd\n"
          ],
          "name": "stdout"
        }
      ]
    },
    {
      "cell_type": "code",
      "metadata": {
        "colab": {
          "base_uri": "https://localhost:8080/"
        },
        "id": "4Cto_m_GgBhb",
        "outputId": "b5c23afb-b40d-4dc7-de77-8a7249b15922"
      },
      "source": [
        "hw12 = '{} {} {}'.format(hello, world, 12) # string formatting ---> simillar to C formatting\n",
        "print(hw)\n",
        "s = 'hello world'\n",
        "print(s.capitalize()) # first letter to upper case\n",
        "print(s.upper())      # every letters to upper case\n",
        "print(s.rjust(7))     # 오른쪽 맞춤\n",
        "print(s.center(7))    # 가운데 맞춤\n",
        "print(s.replace('l', '(ell)')) # replace all 'l' to '(ell)'\n",
        "print('  wor ld'.strip())      #앞 뒤 공백 제거"
      ],
      "execution_count": 10,
      "outputs": [
        {
          "output_type": "stream",
          "text": [
            "hello wd\n",
            "Hello world\n",
            "HELLO WORLD\n",
            "hello world\n",
            "hello world\n",
            "he(ell)(ell)o wor(ell)d\n",
            "wor ld\n"
          ],
          "name": "stdout"
        }
      ]
    },
    {
      "cell_type": "markdown",
      "metadata": {
        "id": "QL36KyyLiXyW"
      },
      "source": [
        "Containers"
      ]
    },
    {
      "cell_type": "code",
      "metadata": {
        "colab": {
          "base_uri": "https://localhost:8080/"
        },
        "id": "SX8saXQYiapt",
        "outputId": "2365f0ff-564c-44cf-b2e3-3ad4885335bf"
      },
      "source": [
        "#List\n",
        "xs = [3, 1, 2]\n",
        "print(xs[-1]) # negative index starts from the end\n",
        "xs[2] = 'foo' # List can contain differnet types\n",
        "print(xs)\n",
        "xs.append('bar') # add\n",
        "print(xs)\n",
        "x = xs.pop() # pop last element\n",
        "print(xs)"
      ],
      "execution_count": 14,
      "outputs": [
        {
          "output_type": "stream",
          "text": [
            "2\n",
            "[3, 1, 'foo']\n",
            "[3, 1, 'foo', 'bar']\n",
            "[3, 1, 'foo']\n"
          ],
          "name": "stdout"
        }
      ]
    },
    {
      "cell_type": "code",
      "metadata": {
        "colab": {
          "base_uri": "https://localhost:8080/"
        },
        "id": "38ayn53vjH2o",
        "outputId": "99b5a4c6-ba05-468a-ac14-5938c76dc26e"
      },
      "source": [
        "#slicing\n",
        "nums = list(range(5))\n",
        "print(nums)\n",
        "print(nums[2:4])    #2번 인덱스 시작 (4-2)개 slicing\n",
        "print(nums[2:])     #2 to end\n",
        "print(nums[:2])     #start 시작 2개 slicing\n",
        "print(nums[:])      #전체\n",
        "print(nums[:-1])    #뒤에서 하나 뺌\n",
        "nums[2:4] = [8,9]   #assign도 가능\n",
        "print(nums)"
      ],
      "execution_count": 16,
      "outputs": [
        {
          "output_type": "stream",
          "text": [
            "[0, 1, 2, 3, 4]\n",
            "[2, 3]\n",
            "[2, 3, 4]\n",
            "[0, 1]\n",
            "[0, 1, 2, 3, 4]\n",
            "[0, 1, 2, 3]\n",
            "[0, 1, 8, 9, 4]\n"
          ],
          "name": "stdout"
        }
      ]
    },
    {
      "cell_type": "code",
      "metadata": {
        "colab": {
          "base_uri": "https://localhost:8080/"
        },
        "id": "puAlgjPzvTGL",
        "outputId": "32503253-aaa9-4e74-89fc-82b649ac1360"
      },
      "source": [
        "animals = ['cat', 'dog', 'monkey']\n",
        "for animal in animals:\n",
        "  print(animal)\n",
        "for idx, animal in enumerate(animals):      #if you want access to the index of each element\n",
        "  print('#{}: {}'.format(idx + 1, animal))"
      ],
      "execution_count": 18,
      "outputs": [
        {
          "output_type": "stream",
          "text": [
            "cat\n",
            "dog\n",
            "monkey\n",
            "#1: cat\n",
            "#2: dog\n",
            "#3: monkey\n"
          ],
          "name": "stdout"
        }
      ]
    },
    {
      "cell_type": "code",
      "metadata": {
        "colab": {
          "base_uri": "https://localhost:8080/"
        },
        "id": "HD1aJ6w_vfh5",
        "outputId": "c7181a17-93db-472a-edbe-cee7b5979134"
      },
      "source": [
        "#List comprehensions\n",
        "nums = [0, 1, 2, 3, 4]\n",
        "squares = []\n",
        "for x in nums:\n",
        "  squares.append(x**2)\n",
        "print(squares)\n",
        "squares = [x**2 for x in nums]\n",
        "print(squares)\n",
        "even_squares = [x**2 for x in nums if x%2 == 0]\n",
        "print(even_squares)\n",
        "nums = [[0 for j in range(6)] for i in range(5)]    #2차원 배열 초기화\n",
        "print(nums)"
      ],
      "execution_count": 27,
      "outputs": [
        {
          "output_type": "stream",
          "text": [
            "[0, 1, 4, 9, 16]\n",
            "[0, 1, 4, 9, 16]\n",
            "[0, 4, 16]\n",
            "[[0, 0, 0, 0, 0, 0], [0, 0, 0, 0, 0, 0], [0, 0, 0, 0, 0, 0], [0, 0, 0, 0, 0, 0], [0, 0, 0, 0, 0, 0]]\n"
          ],
          "name": "stdout"
        }
      ]
    },
    {
      "cell_type": "code",
      "metadata": {
        "colab": {
          "base_uri": "https://localhost:8080/"
        },
        "id": "qivhdxOxzhWh",
        "outputId": "013fa2a0-4fe0-43f6-d2e2-127e078b4224"
      },
      "source": [
        "#Dictionaries\n",
        "d = {'cat' : 'cute', 'dog' : 'furry'}\n",
        "print(d['cat'])\n",
        "print('cat' in d)\n",
        "d['fish'] = 'wet'\n",
        "print(d['fish'])\n",
        "#print(d['monk']) - keyerror\n",
        "print(d.get('monkey', 'N/A')) # default; N/A\n",
        "print(d.get('fish', 'N/A'))\n",
        "del d['fish']\n",
        "print(d.get('fish', 'N/A'))"
      ],
      "execution_count": 33,
      "outputs": [
        {
          "output_type": "stream",
          "text": [
            "cute\n",
            "True\n",
            "wet\n",
            "N/A\n",
            "wet\n",
            "N/A\n"
          ],
          "name": "stdout"
        }
      ]
    },
    {
      "cell_type": "code",
      "metadata": {
        "colab": {
          "base_uri": "https://localhost:8080/"
        },
        "id": "gPs62cNp2R2G",
        "outputId": "7552ff0b-ed93-441b-8764-c6e382de45b7"
      },
      "source": [
        "d = {'person': 2, 'cat': 4, 'spider': 8}\n",
        "for animal, legs in d.items():\n",
        "  print('A {} has {} legs'.format(animal, legs))"
      ],
      "execution_count": 35,
      "outputs": [
        {
          "output_type": "stream",
          "text": [
            "A person has 2 legs\n",
            "A cat has 4 legs\n",
            "A spider has 8 legs\n"
          ],
          "name": "stdout"
        }
      ]
    },
    {
      "cell_type": "code",
      "metadata": {
        "colab": {
          "base_uri": "https://localhost:8080/"
        },
        "id": "0aUolnbW2ahB",
        "outputId": "3aea7380-fc42-4d1b-f4be-b2846517d576"
      },
      "source": [
        "nums = [0, 1, 2, 3, 4]\n",
        "even_num_to_square = {x: x ** 2 for x in nums if x % 2 == 0} # 'x:'를 앞에 붙이면 dictionary로 앞이 key, 뒤가 value\n",
        "print(even_num_to_square)"
      ],
      "execution_count": 36,
      "outputs": [
        {
          "output_type": "stream",
          "text": [
            "{0: 0, 2: 4, 4: 16}\n"
          ],
          "name": "stdout"
        }
      ]
    },
    {
      "cell_type": "code",
      "metadata": {
        "colab": {
          "base_uri": "https://localhost:8080/"
        },
        "id": "-lU49dW82yPF",
        "outputId": "7335a1c8-f717-44f3-b8d9-dfc700f5dc08"
      },
      "source": [
        "#Sets\n",
        "animals = {'cat', 'dog'}\n",
        "print('cat' in animals)       # x in set -> 조건문\n",
        "print('fish' in animals)\n",
        "animals.add('fish')\n",
        "print('fish' in animals)\n",
        "print(len(animals))\n",
        "animals.add('cat')\n",
        "print(len(animals))\n",
        "animals.remove('cat')\n",
        "print(len(animals))"
      ],
      "execution_count": 40,
      "outputs": [
        {
          "output_type": "stream",
          "text": [
            "True\n",
            "False\n",
            "True\n",
            "3\n",
            "3\n",
            "2\n"
          ],
          "name": "stdout"
        }
      ]
    },
    {
      "cell_type": "code",
      "metadata": {
        "colab": {
          "base_uri": "https://localhost:8080/"
        },
        "id": "mlvQr5w73eOQ",
        "outputId": "a58e30fa-3638-43a3-8c03-1fb91802e283"
      },
      "source": [
        "animals = {'cat', 'dog', 'fish'}\n",
        "for idx, animal in enumerate(animals):\n",
        "  print('#{}: {}'.format(idx + 1, animal))"
      ],
      "execution_count": 41,
      "outputs": [
        {
          "output_type": "stream",
          "text": [
            "#1: fish\n",
            "#2: dog\n",
            "#3: cat\n"
          ],
          "name": "stdout"
        }
      ]
    },
    {
      "cell_type": "code",
      "metadata": {
        "colab": {
          "base_uri": "https://localhost:8080/"
        },
        "id": "KTUfm8m85Mlk",
        "outputId": "c743507f-3844-4ae6-b635-9eb596590527"
      },
      "source": [
        "from math import sqrt\n",
        "print({sqrt(x) for x in range(30)})\n",
        "print({int(sqrt(x)) for x in range(30)})"
      ],
      "execution_count": 43,
      "outputs": [
        {
          "output_type": "stream",
          "text": [
            "{0.0, 1.0, 2.0, 1.7320508075688772, 1.4142135623730951, 2.23606797749979, 2.449489742783178, 2.6457513110645907, 2.8284271247461903, 3.0, 3.1622776601683795, 3.3166247903554, 3.4641016151377544, 4.0, 5.0, 4.47213595499958, 4.795831523312719, 4.898979485566356, 5.0990195135927845, 5.196152422706632, 5.291502622129181, 3.7416573867739413, 3.872983346207417, 4.123105625617661, 4.242640687119285, 4.358898943540674, 4.58257569495584, 4.69041575982343, 5.385164807134504, 3.605551275463989}\n",
            "{0, 1, 2, 3, 4, 5}\n"
          ],
          "name": "stdout"
        }
      ]
    },
    {
      "cell_type": "code",
      "metadata": {
        "colab": {
          "base_uri": "https://localhost:8080/"
        },
        "id": "YkHAWEUy5T6L",
        "outputId": "056259a1-830d-4c66-8a6e-feb524b9a372"
      },
      "source": [
        "#Tuples -- tuple is almost same as list but the most important diffence is that tuples can be used as keys in dic\n",
        "#           and elements of sets, while lists cannot\n",
        "d = {(x, x + 1) : x for x in range(10)}\n",
        "t = (5, 6)\n",
        "l = [5, 6]\n",
        "print(type(t), type(d), type(l))\n",
        "print(d)\n",
        "print(d[t])\n",
        "print(d[(1, 2)])\n",
        "#print(d[l])"
      ],
      "execution_count": 47,
      "outputs": [
        {
          "output_type": "stream",
          "text": [
            "<class 'tuple'> <class 'dict'> <class 'list'>\n",
            "{(0, 1): 0, (1, 2): 1, (2, 3): 2, (3, 4): 3, (4, 5): 4, (5, 6): 5, (6, 7): 6, (7, 8): 7, (8, 9): 8, (9, 10): 9}\n",
            "5\n",
            "1\n"
          ],
          "name": "stdout"
        }
      ]
    },
    {
      "cell_type": "code",
      "metadata": {
        "colab": {
          "base_uri": "https://localhost:8080/"
        },
        "id": "im3_7LZB9tQK",
        "outputId": "56c845ee-6401-4497-8c91-a22d9d0b8dc0"
      },
      "source": [
        "#Functions\n",
        "def sign(x):\n",
        "    if x > 0:\n",
        "        return 'positive'\n",
        "    elif x < 0:\n",
        "        return 'negative'\n",
        "    else:\n",
        "        return 'zero'\n",
        "\n",
        "for x in [-1, 0, 1]:\n",
        "    print(sign(x))"
      ],
      "execution_count": 48,
      "outputs": [
        {
          "output_type": "stream",
          "text": [
            "negative\n",
            "zero\n",
            "positive\n"
          ],
          "name": "stdout"
        }
      ]
    },
    {
      "cell_type": "code",
      "metadata": {
        "colab": {
          "base_uri": "https://localhost:8080/"
        },
        "id": "_CWfT_a0-H2g",
        "outputId": "ffd3dad3-7f83-4f97-fac4-9b87be2a2997"
      },
      "source": [
        "def hello(name, loud=False):            #default input\n",
        "    if loud:\n",
        "        print('HELLO, {}'.format(name.upper()))\n",
        "    else:\n",
        "        print('Hello, {}!'.format(name))\n",
        "\n",
        "hello('Bob')\n",
        "hello('Fred', loud=True)"
      ],
      "execution_count": 49,
      "outputs": [
        {
          "output_type": "stream",
          "text": [
            "Hello, Bob!\n",
            "HELLO, FRED\n"
          ],
          "name": "stdout"
        }
      ]
    },
    {
      "cell_type": "code",
      "metadata": {
        "id": "7BXGmhvo-SwE"
      },
      "source": [
        "class Greeter:\n",
        "\n",
        "    # Constructor\n",
        "    def __init__(self, name):\n",
        "        self.name = name  # Create an instance variable\n",
        "\n",
        "    # Instance method\n",
        "    def greet(self, loud=False):\n",
        "        if loud:\n",
        "          print('HELLO, {}'.format(self.name.upper()))\n",
        "        else:\n",
        "          print('Hello, {}!'.format(self.name))\n",
        "\n",
        "g = Greeter('Fred')  # Construct an instance of the Greeter class\n",
        "g.greet()            # Call an instance method; prints \"Hello, Fred\"\n",
        "g.greet(loud=True)   # Call an instance method; prints \"HELLO, FRED!\""
      ],
      "execution_count": null,
      "outputs": []
    },
    {
      "cell_type": "markdown",
      "metadata": {
        "id": "5zhoNgHW-clL"
      },
      "source": [
        "#Numpy\n",
        "Numpy is the core library for scientific computing in Python. It provides a high-performance multidimensional array object, and tools for working with these arrays."
      ]
    },
    {
      "cell_type": "code",
      "metadata": {
        "id": "nmQwJN2d-dow"
      },
      "source": [
        "import numpy as np"
      ],
      "execution_count": 50,
      "outputs": []
    },
    {
      "cell_type": "code",
      "metadata": {
        "colab": {
          "base_uri": "https://localhost:8080/"
        },
        "id": "ioIlXeCG-tCg",
        "outputId": "5b67c802-86bc-4302-a307-9289f77ce86d"
      },
      "source": [
        "a = np.array([1,2,3])\n",
        "print(type(a), a.shape, a[0], a[1], a[2])\n",
        "a[0] = 5\n",
        "print(a)"
      ],
      "execution_count": 51,
      "outputs": [
        {
          "output_type": "stream",
          "text": [
            "<class 'numpy.ndarray'> (3,) 1 2 3\n",
            "[5 2 3]\n"
          ],
          "name": "stdout"
        }
      ]
    },
    {
      "cell_type": "code",
      "metadata": {
        "colab": {
          "base_uri": "https://localhost:8080/"
        },
        "id": "RSxmwAw2ALfS",
        "outputId": "311ec42d-4853-4a66-ab3b-adfe045ab104"
      },
      "source": [
        "b = np.array([[1,2,3], [4,5,6]])\n",
        "print(b)\n",
        "print(b.shape)\n",
        "print(b[0,0], b[0,1], b[1,0])"
      ],
      "execution_count": 54,
      "outputs": [
        {
          "output_type": "stream",
          "text": [
            "[[1 2 3]\n",
            " [4 5 6]]\n",
            "(2, 3)\n",
            "1 2 4\n"
          ],
          "name": "stdout"
        }
      ]
    },
    {
      "cell_type": "code",
      "metadata": {
        "colab": {
          "base_uri": "https://localhost:8080/"
        },
        "id": "OPNfOzauAY2K",
        "outputId": "6cd1ff96-2fea-4521-8c45-4dac4bf8023d"
      },
      "source": [
        "a = np.zeros((2,2))\n",
        "b = np.ones((1,2))\n",
        "c = np.full((2,2), 7)\n",
        "print(a)\n",
        "print(b)\n",
        "print(c)"
      ],
      "execution_count": 58,
      "outputs": [
        {
          "output_type": "stream",
          "text": [
            "[[0. 0.]\n",
            " [0. 0.]]\n",
            "[[1. 1.]]\n",
            "[[7 7]\n",
            " [7 7]]\n"
          ],
          "name": "stdout"
        }
      ]
    },
    {
      "cell_type": "code",
      "metadata": {
        "colab": {
          "base_uri": "https://localhost:8080/"
        },
        "id": "EzPwjTPnAuuh",
        "outputId": "c9795a6b-ca82-472d-840b-4f8ae0fc1727"
      },
      "source": [
        "d = np.eye(2)\n",
        "e = np.eye(3)\n",
        "print(d)\n",
        "print(e)\n",
        "f = np.random.random((2,2))\n",
        "print(f)\n",
        "g = np.random.random(5)\n",
        "print(g)"
      ],
      "execution_count": 66,
      "outputs": [
        {
          "output_type": "stream",
          "text": [
            "[[1. 0.]\n",
            " [0. 1.]]\n",
            "[[1. 0. 0.]\n",
            " [0. 1. 0.]\n",
            " [0. 0. 1.]]\n",
            "[[0.58418451 0.04074162]\n",
            " [0.50073611 0.84967582]]\n",
            "[0.54151067 0.97450501 0.41302401 0.13420081 0.47073379]\n"
          ],
          "name": "stdout"
        }
      ]
    },
    {
      "cell_type": "markdown",
      "metadata": {
        "id": "YQCSJ71UCvRP"
      },
      "source": [
        "Array indexing"
      ]
    },
    {
      "cell_type": "code",
      "metadata": {
        "colab": {
          "base_uri": "https://localhost:8080/"
        },
        "id": "HuYl7YJ8C0nW",
        "outputId": "e93ff7f2-8e84-4a0c-955f-897cf196846b"
      },
      "source": [
        "a = np.array([[1,2,3,4], [5,6,7,8], [9,10,11,12]])\n",
        "b = a[:2, 1:3]      #shallow copy\n",
        "print(b)\n",
        "print(a[0,1])\n",
        "b[0][0] = 77      #also modifying a\n",
        "print(a[0,1])"
      ],
      "execution_count": 70,
      "outputs": [
        {
          "output_type": "stream",
          "text": [
            "[[2 3]\n",
            " [6 7]]\n",
            "2\n",
            "77\n"
          ],
          "name": "stdout"
        }
      ]
    },
    {
      "cell_type": "code",
      "metadata": {
        "colab": {
          "base_uri": "https://localhost:8080/"
        },
        "id": "yQEzEzZQDBGC",
        "outputId": "a548a203-5e7c-4595-d1cd-8738fb49201f"
      },
      "source": [
        "row_r1 = a[0, :]    # 일차원 -> 0번행의 모든열 출력\n",
        "#밑에 두 array는 2차원 배열\n",
        "row_r2 = a[1:2, 0:3]  # [a:b, c:d] -> a행부터 시작해서 (b-a)개 행 // c부터 시작해서 (d-c)개 열 출력\n",
        "row_r3 = a[[1], :]  # a[1] 은 1행을 의미 -> a[[1], :]은 1행의 모든 열 출력\n",
        "print(row_r1)\n",
        "print(row_r2)\n",
        "print(row_r3)"
      ],
      "execution_count": 79,
      "outputs": [
        {
          "output_type": "stream",
          "text": [
            "[ 1 77  3  4]\n",
            "[[5 6 7]]\n",
            "[[5 6 7 8]]\n"
          ],
          "name": "stdout"
        }
      ]
    },
    {
      "cell_type": "code",
      "metadata": {
        "colab": {
          "base_uri": "https://localhost:8080/"
        },
        "id": "A37mzdcnfCbA",
        "outputId": "54f0577f-9076-4257-da70-c33cfb378972"
      },
      "source": [
        "col_r1 = a[:, 1]    #int가 들어왔기 때문에 1차원\n",
        "col_r2 = a[:, 1:2]  #1:2 slicing array가 들어왔기 때문에 2차원\n",
        "print(col_r1, col_r1.shape)\n",
        "print(col_r2, col_r2.shape)"
      ],
      "execution_count": 80,
      "outputs": [
        {
          "output_type": "stream",
          "text": [
            "[77  6 10] (3,)\n",
            "[[77]\n",
            " [ 6]\n",
            " [10]] (3, 1)\n"
          ],
          "name": "stdout"
        }
      ]
    },
    {
      "cell_type": "code",
      "metadata": {
        "colab": {
          "base_uri": "https://localhost:8080/"
        },
        "id": "qIFoygZ4kfmh",
        "outputId": "90976e91-e611-40ba-ab0b-b31c49ae140b"
      },
      "source": [
        "a = np.array([[1,2], [3, 4], [5, 6]])\n",
        "print(a[[0, 1, 1], [0, 0, 1]])    #a[[행리스트][열리스트]]\n",
        "print(a)\n",
        "print(a[[0,0], [1,1]])\n",
        "print(np.array([a[0,1], a[0,1]]))"
      ],
      "execution_count": 91,
      "outputs": [
        {
          "output_type": "stream",
          "text": [
            "[1 3 4]\n",
            "[[1 2]\n",
            " [3 4]\n",
            " [5 6]]\n",
            "[2 2]\n",
            "[2 2]\n"
          ],
          "name": "stdout"
        }
      ]
    },
    {
      "cell_type": "code",
      "metadata": {
        "colab": {
          "base_uri": "https://localhost:8080/"
        },
        "id": "l4eryaaQl8CG",
        "outputId": "01abd1bf-e760-4212-d746-4a208d8b3257"
      },
      "source": [
        "a = np.array([[1,2,3], [4,5,6], [7,8,9], [10, 11, 12]])\n",
        "b = np.array([0, 2, 0, 1])\n",
        "\n",
        "print(a[np.arange(4), b])   #arange(4) -> [0, 1, 2, 3]"
      ],
      "execution_count": 94,
      "outputs": [
        {
          "output_type": "stream",
          "text": [
            "[ 1  6  7 11]\n"
          ],
          "name": "stdout"
        }
      ]
    },
    {
      "cell_type": "code",
      "metadata": {
        "colab": {
          "base_uri": "https://localhost:8080/"
        },
        "id": "AkO4Er-NnTrL",
        "outputId": "3622e6a9-a9e5-4509-eb63-970354484d40"
      },
      "source": [
        "a[np.arange(4), b] += 10    #slicing은 shaloow copy이기 때문에 value 변경이 저장\n",
        "print(a)          "
      ],
      "execution_count": 95,
      "outputs": [
        {
          "output_type": "stream",
          "text": [
            "[[11  2  3]\n",
            " [ 4  5 16]\n",
            " [17  8  9]\n",
            " [10 21 12]]\n"
          ],
          "name": "stdout"
        }
      ]
    },
    {
      "cell_type": "code",
      "metadata": {
        "colab": {
          "base_uri": "https://localhost:8080/"
        },
        "id": "Frbvrth_nxZu",
        "outputId": "5c3c09d6-15ea-421d-8daf-90bba2dba4f5"
      },
      "source": [
        "a = np.array([[1,2], [3, 4], [5, 6]])\n",
        "\n",
        "bool_idx = (a > 2)      #ndarray return\n",
        "print(bool_idx)"
      ],
      "execution_count": 97,
      "outputs": [
        {
          "output_type": "stream",
          "text": [
            "[[False False]\n",
            " [ True  True]\n",
            " [ True  True]]\n"
          ],
          "name": "stdout"
        }
      ]
    },
    {
      "cell_type": "code",
      "metadata": {
        "colab": {
          "base_uri": "https://localhost:8080/"
        },
        "id": "KlCwGglen6jS",
        "outputId": "fd9b960b-995e-47c1-8760-1f9628a15922"
      },
      "source": [
        "print(a[bool_idx])    #a[boolean array] -> 조건문처럼 활용\n",
        "print(a[a>2])         #조건문 -> array반환 -> "
      ],
      "execution_count": 98,
      "outputs": [
        {
          "output_type": "stream",
          "text": [
            "[3 4 5 6]\n"
          ],
          "name": "stdout"
        }
      ]
    },
    {
      "cell_type": "markdown",
      "metadata": {
        "id": "C7FQNoSMp_vU"
      },
      "source": [
        "#Array math"
      ]
    },
    {
      "cell_type": "code",
      "metadata": {
        "colab": {
          "base_uri": "https://localhost:8080/"
        },
        "id": "YulHe_qAqCgI",
        "outputId": "ea848008-e60e-409a-ab9e-e02faf62c3aa"
      },
      "source": [
        "x = np.array([[1,2],[3,4]], dtype=np.float64)\n",
        "y = np.array([[5,6],[7,8]], dtype=np.float64)\n",
        "\n",
        "print(x + y)\n",
        "print(np.add(x, y))"
      ],
      "execution_count": 99,
      "outputs": [
        {
          "output_type": "stream",
          "text": [
            "[[ 6.  8.]\n",
            " [10. 12.]]\n",
            "[[ 6.  8.]\n",
            " [10. 12.]]\n"
          ],
          "name": "stdout"
        }
      ]
    },
    {
      "cell_type": "code",
      "metadata": {
        "colab": {
          "base_uri": "https://localhost:8080/"
        },
        "id": "xnENFR_mqIaL",
        "outputId": "5cc79122-3f39-4a27-87b6-6c758aa9249e"
      },
      "source": [
        "print(x - y)\n",
        "print(np.subtract(x, y))"
      ],
      "execution_count": 100,
      "outputs": [
        {
          "output_type": "stream",
          "text": [
            "[[-4. -4.]\n",
            " [-4. -4.]]\n",
            "[[-4. -4.]\n",
            " [-4. -4.]]\n"
          ],
          "name": "stdout"
        }
      ]
    },
    {
      "cell_type": "code",
      "metadata": {
        "colab": {
          "base_uri": "https://localhost:8080/"
        },
        "id": "Uzu9zIOzqKGa",
        "outputId": "91861f63-ebca-4b4d-9bb1-cfc8e4662891"
      },
      "source": [
        "print(x * y)\n",
        "print(y**x)\n",
        "print(np.multiply(x, y))"
      ],
      "execution_count": 102,
      "outputs": [
        {
          "output_type": "stream",
          "text": [
            "[[ 5. 12.]\n",
            " [21. 32.]]\n",
            "[[   5.   36.]\n",
            " [ 343. 4096.]]\n",
            "[[ 5. 12.]\n",
            " [21. 32.]]\n"
          ],
          "name": "stdout"
        }
      ]
    },
    {
      "cell_type": "code",
      "metadata": {
        "colab": {
          "base_uri": "https://localhost:8080/"
        },
        "id": "Ic9jsSNLqS4h",
        "outputId": "45c01f4f-e03b-4e1b-991f-e3e3943bc4b7"
      },
      "source": [
        "print(x / y)\n",
        "print(np.divide(x, y))\n",
        "print(np.sqrt(x))"
      ],
      "execution_count": 103,
      "outputs": [
        {
          "output_type": "stream",
          "text": [
            "[[0.2        0.33333333]\n",
            " [0.42857143 0.5       ]]\n",
            "[[0.2        0.33333333]\n",
            " [0.42857143 0.5       ]]\n",
            "[[1.         1.41421356]\n",
            " [1.73205081 2.        ]]\n"
          ],
          "name": "stdout"
        }
      ]
    },
    {
      "cell_type": "code",
      "metadata": {
        "colab": {
          "base_uri": "https://localhost:8080/"
        },
        "id": "BhB8iJq5qf8Y",
        "outputId": "be0efcfb-ef95-4c04-91ae-316d004f28bf"
      },
      "source": [
        "x = np.array([[1,2],[3,4]])\n",
        "y = np.array([[5,6],[7,8]])\n",
        "\n",
        "v = np.array([9,10])\n",
        "w = np.array([11, 12])\n",
        "\n",
        "print(v.dot(w.T))\n",
        "print(np.dot(v, w))\n",
        "print(v @ w)"
      ],
      "execution_count": 107,
      "outputs": [
        {
          "output_type": "stream",
          "text": [
            "219\n",
            "219\n",
            "219\n"
          ],
          "name": "stdout"
        }
      ]
    },
    {
      "cell_type": "code",
      "metadata": {
        "colab": {
          "base_uri": "https://localhost:8080/"
        },
        "id": "t59fHclqqnRU",
        "outputId": "9a42df23-2302-478c-b82f-d7123f1fc879"
      },
      "source": [
        "print(x.dot(y))\n",
        "print(np.dot(x, y))\n",
        "print(x @ y)"
      ],
      "execution_count": 108,
      "outputs": [
        {
          "output_type": "stream",
          "text": [
            "[[19 22]\n",
            " [43 50]]\n",
            "[[19 22]\n",
            " [43 50]]\n",
            "[[19 22]\n",
            " [43 50]]\n"
          ],
          "name": "stdout"
        }
      ]
    },
    {
      "cell_type": "code",
      "metadata": {
        "colab": {
          "base_uri": "https://localhost:8080/"
        },
        "id": "KD49Htd-q79l",
        "outputId": "9fbb4757-672b-487e-a0b9-ed86a595a7f3"
      },
      "source": [
        "x = np.array([[1,2],[3,4]])\n",
        "\n",
        "print(np.sum(x))  # Compute sum of all elements; prints \"10\"\n",
        "print(np.sum(x, axis=0))  # Compute sum of each column; prints \"[4 6]\"\n",
        "print(np.sum(x, 1))  # Compute sum of each row; prints \"[3 7]\""
      ],
      "execution_count": 110,
      "outputs": [
        {
          "output_type": "stream",
          "text": [
            "10\n",
            "[4 6]\n",
            "[3 7]\n"
          ],
          "name": "stdout"
        }
      ]
    },
    {
      "cell_type": "code",
      "metadata": {
        "colab": {
          "base_uri": "https://localhost:8080/"
        },
        "id": "evdThbdTq_qD",
        "outputId": "6569e489-a91f-477f-c195-e6b230b0dbc1"
      },
      "source": [
        "print(x)\n",
        "print(\"transpose\\n\", x.T)\n",
        "v = np.array([[1,2,3]])\n",
        "print(v )\n",
        "print(\"transpose\\n\", v.T)"
      ],
      "execution_count": 111,
      "outputs": [
        {
          "output_type": "stream",
          "text": [
            "[[1 2]\n",
            " [3 4]]\n",
            "transpose\n",
            " [[1 3]\n",
            " [2 4]]\n",
            "[[1 2 3]]\n",
            "transpose\n",
            " [[1]\n",
            " [2]\n",
            " [3]]\n"
          ],
          "name": "stdout"
        }
      ]
    },
    {
      "cell_type": "markdown",
      "metadata": {
        "id": "WXnGtQMbrWeM"
      },
      "source": [
        "Broadcasting\n",
        "\n",
        "To work with arrays of different shapes when performing arithmetic operations."
      ]
    },
    {
      "cell_type": "code",
      "metadata": {
        "colab": {
          "base_uri": "https://localhost:8080/"
        },
        "id": "khi97GpDrPEv",
        "outputId": "cdd31901-2cec-4839-e47a-7920466671db"
      },
      "source": [
        "x = np.array([[1,2,3], [4,5,6], [7,8,9], [10, 11, 12]])\n",
        "v = np.array([1, 0, 1])\n",
        "y = np.empty_like(x)   # Create an empty matrix with the same shape as x\n",
        "\n",
        "# Add the vector v to each row of the matrix x with an explicit loop\n",
        "for i in range(4):\n",
        "    y[i, :] = x[i, :] + v\n",
        "\n",
        "print(y)\n",
        "#루프를 도는게 느릴 수 있다"
      ],
      "execution_count": 114,
      "outputs": [
        {
          "output_type": "stream",
          "text": [
            "[[ 2  2  4]\n",
            " [ 5  5  7]\n",
            " [ 8  8 10]\n",
            " [11 11 13]]\n"
          ],
          "name": "stdout"
        }
      ]
    },
    {
      "cell_type": "code",
      "metadata": {
        "colab": {
          "base_uri": "https://localhost:8080/"
        },
        "id": "XFH2CeDFsmfl",
        "outputId": "248d516e-610f-4b25-9198-01d83fe532b9"
      },
      "source": [
        "vv = np.tile(v, (4, 1))  # Stack 4 copies of v on top of each other\n",
        "print(vv)                \n",
        "y = x + vv  # Add x and vv elementwise\n",
        "print(y)"
      ],
      "execution_count": 115,
      "outputs": [
        {
          "output_type": "stream",
          "text": [
            "[[1 0 1]\n",
            " [1 0 1]\n",
            " [1 0 1]\n",
            " [1 0 1]]\n",
            "[[ 2  2  4]\n",
            " [ 5  5  7]\n",
            " [ 8  8 10]\n",
            " [11 11 13]]\n"
          ],
          "name": "stdout"
        }
      ]
    },
    {
      "cell_type": "code",
      "metadata": {
        "colab": {
          "base_uri": "https://localhost:8080/"
        },
        "id": "u8F3km2Tswxv",
        "outputId": "452dc8b6-bf39-4802-a598-f6288bfc903b"
      },
      "source": [
        "x = np.array([[1,2,3], [4,5,6], [7,8,9], [10, 11, 12]])\n",
        "v = np.array([1, 0, 1])\n",
        "y = x + v  # Add v to each row of x using broadcasting\n",
        "print(y)"
      ],
      "execution_count": 116,
      "outputs": [
        {
          "output_type": "stream",
          "text": [
            "[[ 2  2  4]\n",
            " [ 5  5  7]\n",
            " [ 8  8 10]\n",
            " [11 11 13]]\n"
          ],
          "name": "stdout"
        }
      ]
    },
    {
      "cell_type": "markdown",
      "metadata": {
        "id": "08YyIURKL9jH"
      },
      "source": [
        "The line `y = x + v` works even though `x` has shape `(4, 3)` and `v` has shape `(3,)` due to broadcasting; this line works as if v actually had shape `(4, 3)`, where each row was a copy of `v`, and the sum was performed elementwise.\n",
        "\n",
        "Broadcasting two arrays together follows these rules:\n",
        "\n",
        "1. If the arrays do not have the same rank, prepend the shape of the lower rank array with 1s until both shapes have the same length.\n",
        "2. The two arrays are said to be compatible in a dimension if they have the same size in the dimension, or if one of the arrays has size 1 in that dimension.\n",
        "3. The arrays can be broadcast together if they are compatible in all dimensions.\n",
        "4. After broadcasting, each array behaves as if it had shape equal to the elementwise maximum of shapes of the two input arrays.\n",
        "5. In any dimension where one array had size 1 and the other array had size greater than 1, the first array behaves as if it were copied along that dimension\n",
        "\n",
        "If this explanation does not make sense, try reading the explanation from the [documentation](http://docs.scipy.org/doc/numpy/user/basics.broadcasting.html) or this [explanation](http://wiki.scipy.org/EricsBroadcastingDoc).\n",
        "\n",
        "Functions that support broadcasting are known as universal functions. You can find the list of all universal functions in the [documentation](http://docs.scipy.org/doc/numpy/reference/ufuncs.html#available-ufuncs).\n",
        "\n",
        "Here are some applications of broadcasting:"
      ]
    },
    {
      "cell_type": "code",
      "metadata": {
        "colab": {
          "base_uri": "https://localhost:8080/"
        },
        "id": "09xwdIkxtID2",
        "outputId": "a0aed278-38e2-4931-f4ba-fd462601ade3"
      },
      "source": [
        "v = np.array([1,2,3])  # v has shape (3,)\n",
        "w = np.array([4,5])    # w has shape (2,)\n",
        "\n",
        "print(np.reshape(v, (3, 1)) * w)"
      ],
      "execution_count": 117,
      "outputs": [
        {
          "output_type": "stream",
          "text": [
            "[[ 4  5]\n",
            " [ 8 10]\n",
            " [12 15]]\n"
          ],
          "name": "stdout"
        }
      ]
    },
    {
      "cell_type": "code",
      "metadata": {
        "colab": {
          "base_uri": "https://localhost:8080/"
        },
        "id": "dq9G_kr3tbBi",
        "outputId": "b2d4a2f0-9812-49cd-aba8-ea1eacc3e094"
      },
      "source": [
        "# Add a vector to each row of a matrix\n",
        "x = np.array([[1,2,3], [4,5,6]])\n",
        "# x has shape (2, 3) and v has shape (3,) so they broadcast to (2, 3),\n",
        "# giving the following matrix:\n",
        "\n",
        "print(x + v)"
      ],
      "execution_count": 118,
      "outputs": [
        {
          "output_type": "stream",
          "text": [
            "[[2 4 6]\n",
            " [5 7 9]]\n"
          ],
          "name": "stdout"
        }
      ]
    },
    {
      "cell_type": "code",
      "metadata": {
        "colab": {
          "base_uri": "https://localhost:8080/"
        },
        "id": "n8XuT6FUtjBA",
        "outputId": "11b86021-c6eb-4b96-e239-b29e6c602429"
      },
      "source": [
        "print(x.T)\n",
        "print(w)\n",
        "print((x.T + w).T)"
      ],
      "execution_count": 119,
      "outputs": [
        {
          "output_type": "stream",
          "text": [
            "[[1 4]\n",
            " [2 5]\n",
            " [3 6]]\n",
            "[4 5]\n",
            "[[ 5  6  7]\n",
            " [ 9 10 11]]\n"
          ],
          "name": "stdout"
        }
      ]
    },
    {
      "cell_type": "code",
      "metadata": {
        "colab": {
          "base_uri": "https://localhost:8080/"
        },
        "id": "RUJ4O7AEttub",
        "outputId": "1661c004-6f46-4308-a8b3-dd0b4e90bf4c"
      },
      "source": [
        "print(x + np.reshape(w, (2, 1)))"
      ],
      "execution_count": 120,
      "outputs": [
        {
          "output_type": "stream",
          "text": [
            "[[ 5  6  7]\n",
            " [ 9 10 11]]\n"
          ],
          "name": "stdout"
        }
      ]
    },
    {
      "cell_type": "code",
      "metadata": {
        "id": "UKt0GAe1ty4W"
      },
      "source": [
        ""
      ],
      "execution_count": null,
      "outputs": []
    }
  ]
}
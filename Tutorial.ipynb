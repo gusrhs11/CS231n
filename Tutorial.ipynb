{
  "nbformat": 4,
  "nbformat_minor": 0,
  "metadata": {
    "colab": {
      "name": "Tutorial.ipynb",
      "provenance": [],
      "authorship_tag": "ABX9TyMSulawM+UWn4WlCnOBwp+5",
      "include_colab_link": true
    },
    "kernelspec": {
      "name": "python3",
      "display_name": "Python 3"
    },
    "language_info": {
      "name": "python"
    }
  },
  "cells": [
    {
      "cell_type": "markdown",
      "metadata": {
        "id": "view-in-github",
        "colab_type": "text"
      },
      "source": [
        "<a href=\"https://colab.research.google.com/github/gusrhs11/CS231n/blob/main/Tutorial.ipynb\" target=\"_parent\"><img src=\"https://colab.research.google.com/assets/colab-badge.svg\" alt=\"Open In Colab\"/></a>"
      ]
    },
    {
      "cell_type": "markdown",
      "metadata": {
        "id": "XWS9SvO7Vcg8"
      },
      "source": [
        "# CS231n Python Tutorial\n",
        "\n",
        "Basic Python: Basic data types (Containers, Lists, Dictionaries, Sets, Tuples), Functions, Classes\n",
        "\n",
        "Numpy: Arrays, Array indexing, Datatypes, Array math, Broadcasting\n",
        "\n",
        "Matplotlib: Plotting, Subplots, Images\n",
        "\n",
        "IPython: Creating notebooks, Typical workflows"
      ]
    },
    {
      "cell_type": "code",
      "metadata": {
        "colab": {
          "base_uri": "https://localhost:8080/"
        },
        "id": "psA5NzpLVsLO",
        "outputId": "804696aa-5384-41f7-9d09-a4ced6709f44"
      },
      "source": [
        "def quicksort(arr):\n",
        "  if len(arr) <= 1:\n",
        "    return arr\n",
        "  pivot = arr[len(arr)//2]\n",
        "  left = [x for x in arr if x < pivot]\n",
        "  middle = [x for x in arr if x == pivot]\n",
        "  right = [x for x in arr if x > pivot]\n",
        "\n",
        "  return quicksort(left) + middle + quicksort(right)\n",
        "\n",
        "print(quicksort([4, 6, 4, 5, 1, 9, 3, 8]))\n"
      ],
      "execution_count": 3,
      "outputs": [
        {
          "output_type": "stream",
          "text": [
            "[1, 3, 4, 4, 5, 6, 8, 9]\n"
          ],
          "name": "stdout"
        }
      ]
    },
    {
      "cell_type": "markdown",
      "metadata": {
        "id": "H7qARVYdfbQH"
      },
      "source": [
        "Basic data types"
      ]
    },
    {
      "cell_type": "code",
      "metadata": {
        "colab": {
          "base_uri": "https://localhost:8080/"
        },
        "id": "jh-gVidUfg6P",
        "outputId": "9958c840-1aca-42a2-e385-5a93c3e1c9af"
      },
      "source": [
        "#numbers\n",
        "x = 3\n",
        "print(x, type(x))"
      ],
      "execution_count": 4,
      "outputs": [
        {
          "output_type": "stream",
          "text": [
            "3 <class 'int'>\n"
          ],
          "name": "stdout"
        }
      ]
    },
    {
      "cell_type": "code",
      "metadata": {
        "colab": {
          "base_uri": "https://localhost:8080/"
        },
        "id": "XcMeWzKGfpMg",
        "outputId": "8e44f087-5b71-47c3-ce31-cc09d0fd8474"
      },
      "source": [
        "#booleans\n",
        "t,f = True , False\n",
        "print(type(t))"
      ],
      "execution_count": 5,
      "outputs": [
        {
          "output_type": "stream",
          "text": [
            "<class 'bool'>\n"
          ],
          "name": "stdout"
        }
      ]
    },
    {
      "cell_type": "code",
      "metadata": {
        "colab": {
          "base_uri": "https://localhost:8080/"
        },
        "id": "5AuQzOgofwGg",
        "outputId": "cfea4dc6-2e82-46b5-b7e5-6c95d683979e"
      },
      "source": [
        "#Strings\n",
        "hello = 'hello'\n",
        "world = 'wd'\n",
        "hw = hello + ' ' + world\n",
        "print(hw)"
      ],
      "execution_count": 6,
      "outputs": [
        {
          "output_type": "stream",
          "text": [
            "hello wd\n"
          ],
          "name": "stdout"
        }
      ]
    },
    {
      "cell_type": "code",
      "metadata": {
        "colab": {
          "base_uri": "https://localhost:8080/"
        },
        "id": "4Cto_m_GgBhb",
        "outputId": "b5c23afb-b40d-4dc7-de77-8a7249b15922"
      },
      "source": [
        "hw12 = '{} {} {}'.format(hello, world, 12) # string formatting ---> simillar to C formatting\n",
        "print(hw)\n",
        "s = 'hello world'\n",
        "print(s.capitalize()) # first letter to upper case\n",
        "print(s.upper())      # every letters to upper case\n",
        "print(s.rjust(7))     # 오른쪽 맞춤\n",
        "print(s.center(7))    # 가운데 맞춤\n",
        "print(s.replace('l', '(ell)')) # replace all 'l' to '(ell)'\n",
        "print('  wor ld'.strip())      #앞 뒤 공백 제거"
      ],
      "execution_count": 10,
      "outputs": [
        {
          "output_type": "stream",
          "text": [
            "hello wd\n",
            "Hello world\n",
            "HELLO WORLD\n",
            "hello world\n",
            "hello world\n",
            "he(ell)(ell)o wor(ell)d\n",
            "wor ld\n"
          ],
          "name": "stdout"
        }
      ]
    },
    {
      "cell_type": "markdown",
      "metadata": {
        "id": "QL36KyyLiXyW"
      },
      "source": [
        "Containers"
      ]
    },
    {
      "cell_type": "code",
      "metadata": {
        "colab": {
          "base_uri": "https://localhost:8080/"
        },
        "id": "SX8saXQYiapt",
        "outputId": "04563fb2-eac2-40a7-f7d4-ace1ee2709d0"
      },
      "source": [
        "#List\n",
        "xs = [3, 1, 2]\n",
        "print(xs[-1]) # negative index starts from the end\n",
        "xs[2] = 'foo' # List can contain differnet types\n",
        "print(xs)\n",
        "xs.append('bar') # add\n",
        "print(xs)\n",
        "x = xs.pop() # pop last element\n",
        "print(xs)"
      ],
      "execution_count": 13,
      "outputs": [
        {
          "output_type": "stream",
          "text": [
            "2\n",
            "[3, 1, 'foo']\n",
            "[3, 1, 'foo', 'bar']\n",
            "[3, 1, 'foo']\n"
          ],
          "name": "stdout"
        }
      ]
    },
    {
      "cell_type": "code",
      "metadata": {
        "id": "38ayn53vjH2o"
      },
      "source": [
        "#slicing\n"
      ],
      "execution_count": null,
      "outputs": []
    }
  ]
}